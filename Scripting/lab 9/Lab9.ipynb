{
 "cells": [
  {
   "cell_type": "markdown",
   "id": "d58d801e",
   "metadata": {},
   "source": [
    "# Scripting Lab 9 – Database and Login Management using Python"
   ]
  },
  {
   "cell_type": "markdown",
   "id": "8111de58",
   "metadata": {},
   "source": [
    "## Summary\n",
    "This notebook implements:\n",
    "- **Database management system** that stores API data and generates charts.\n",
    "- **Login authentication system** with signup, login, password reset, and account removal.\n",
    "- **API Fetching** using `requests` library.\n",
    "- **Data Visualization** with `Matplotlib`.\n",
    "\n",
    "---\n"
   ]
  },
  {
   "cell_type": "markdown",
   "id": "1ea85719",
   "metadata": {},
   "source": [
    "## Part 1: Database Management"
   ]
  },
  {
   "cell_type": "code",
   "execution_count": 6,
   "id": "bcb9662f",
   "metadata": {},
   "outputs": [
    {
     "name": "stdout",
     "output_type": "stream",
     "text": [
      "Retrieved Data: [('Item A', 10.0), ('Item B', 20.0), ('Item C', 15.0)]\n"
     ]
    },
    {
     "data": {
      "image/png": "[encoded data removed]",
      "text/plain": [
       "<Figure size 640x480 with 1 Axes>"
      ]
     },
     "metadata": {},
     "output_type": "display_data"
    }
   ],
   "source": [
    "\n",
    "import sqlite3  # SQLite for database operations\n",
    "import matplotlib.pyplot as plt  # Matplotlib for visualization\n",
    "\n",
    "\n",
    "class Database:\n",
    "    def __init__(self, db_name=\"lab9_database.db\"):\n",
    "        \"\"\"Initialize the database connection and cursor.\"\"\"\n",
    "        self.conn = sqlite3.connect(db_name)  # Connect to SQLite database\n",
    "        self.cursor = self.conn.cursor()  # Create a cursor object\n",
    "\n",
    "    def createTable(self):\n",
    "        \"\"\"Create a table if it doesn’t already exist.\"\"\"\n",
    "        self.cursor.execute('''\n",
    "            CREATE TABLE IF NOT EXISTS api_data (\n",
    "                id INTEGER PRIMARY KEY AUTOINCREMENT,\n",
    "                name TEXT,\n",
    "                value REAL\n",
    "            )\n",
    "        ''')\n",
    "        self.conn.commit()  # Save changes\n",
    "\n",
    "    def saveData(self, data):\n",
    "        \"\"\"Insert API data into the database.\"\"\"\n",
    "        self.cursor.executemany(\"INSERT INTO api_data (name, value) VALUES (?, ?)\", data)\n",
    "        self.conn.commit()\n",
    "\n",
    "    def getData(self, columns):\n",
    "        \"\"\"Retrieve specified columns from the database.\"\"\"\n",
    "        self.cursor.execute(f\"SELECT {', '.join(columns)} FROM api_data\")\n",
    "        return self.cursor.fetchall()\n",
    "\n",
    "    def plotData(self):\n",
    "        \"\"\"Generate a bar chart using stored data.\"\"\"\n",
    "        self.cursor.execute(\"SELECT name, value FROM api_data\")\n",
    "        rows = self.cursor.fetchall()  # Fetch data\n",
    "\n",
    "        if rows:\n",
    "            names, values = zip(*rows)  # Unpack data into two lists\n",
    "            plt.bar(names, values)  # Create bar chart\n",
    "            plt.xlabel(\"Names\")\n",
    "            plt.ylabel(\"Values\")\n",
    "            plt.title(\"API Data Chart\")\n",
    "            plt.show()\n",
    "        else:\n",
    "            print(\"No data available to plot.\")\n",
    "\n",
    "    def close(self):\n",
    "        \"\"\"Close the database connection.\"\"\"\n",
    "        self.conn.close()\n",
    "\n",
    "\n",
    "# Example usage\n",
    "db = Database()\n",
    "db.createTable()\n",
    "\n",
    "# Sample data (replace with real API data)\n",
    "sample_data = [(\"Item A\", 10), (\"Item B\", 20), (\"Item C\", 15)]\n",
    "db.saveData(sample_data)\n",
    "\n",
    "print(\"Retrieved Data:\", db.getData([\"name\", \"value\"]))\n",
    "\n",
    "db.plotData()  # Generate chart from stored data\n",
    "\n",
    "db.close()  # Close the database connection\n"
   ]
  },
  {
   "cell_type": "markdown",
   "id": "dc7a6e22",
   "metadata": {},
   "source": [
    "## Part 2: API Data Fetching"
   ]
  },
  {
   "cell_type": "code",
   "execution_count": 7,
   "id": "f3174367",
   "metadata": {},
   "outputs": [
    {
     "name": "stdout",
     "output_type": "stream",
     "text": [
      "Notebook saved at: Lab9.ipynb\n"
     ]
    }
   ],
   "source": [
    "import nbformat as nbf\n",
    "\n",
    "# Create a new notebook object\n",
    "nb = nbf.v4.new_notebook()\n",
    "\n",
    "# New API code with a working URL\n",
    "api_code = \"\"\"\n",
    "import requests  # Import requests to fetch data from an API\n",
    "\n",
    "def fetch_data(api_url):\n",
    "    \\\"\\\"\\\"Fetch JSON data from an API and return it.\\\"\\\"\\\"\n",
    "    response = requests.get(api_url)  # Send GET request to API\n",
    "    if response.status_code == 200:\n",
    "        return response.json()  # Convert response to JSON\n",
    "    else:\n",
    "        print(\"Error fetching data:\", response.status_code)\n",
    "        return None\n",
    "\n",
    "# Example usage with a working API URL:\n",
    "api_url = \"https://jsonplaceholder.typicode.com/posts\"  # Public API for fetching posts\n",
    "data = fetch_data(api_url)\n",
    "\n",
    "# Extract and print first 5 items for reference\n",
    "if data:\n",
    "    print(\"Sample Data:\", data[:5])  # Print first 5 posts\n",
    "\"\"\"\n",
    "\n",
    "# Update the notebook\n",
    "nb.cells.append(nbf.v4.new_code_cell(api_code))\n",
    "\n",
    "# Save the updated notebook\n",
    "notebook_path = \"Lab9.ipynb\"\n",
    "with open(notebook_path, \"w\") as f:\n",
    "    nbf.write(nb, f)\n",
    "\n",
    "print(f\"Notebook saved at: {notebook_path}\")\n",
    "\n"
   ]
  },
  {
   "cell_type": "markdown",
   "id": "cc0300d9",
   "metadata": {},
   "source": [
    "## Part 3: User Login System"
   ]
  },
  {
   "cell_type": "code",
   "execution_count": 8,
   "id": "003141d3",
   "metadata": {},
   "outputs": [
    {
     "name": "stdout",
     "output_type": "stream",
     "text": [
      "Sample Data: [{'userId': 1, 'id': 1, 'title': 'sunt aut facere repellat provident occaecati excepturi optio reprehenderit', 'body': 'quia et suscipit\\nsuscipit recusandae consequuntur expedita et cum\\nreprehenderit molestiae ut ut quas totam\\nnostrum rerum est autem sunt rem eveniet architecto'}, {'userId': 1, 'id': 2, 'title': 'qui est esse', 'body': 'est rerum tempore vitae\\nsequi sint nihil reprehenderit dolor beatae ea dolores neque\\nfugiat blanditiis voluptate porro vel nihil molestiae ut reiciendis\\nqui aperiam non debitis possimus qui neque nisi nulla'}, {'userId': 1, 'id': 3, 'title': 'ea molestias quasi exercitationem repellat qui ipsa sit aut', 'body': 'et iusto sed quo iure\\nvoluptatem occaecati omnis eligendi aut ad\\nvoluptatem doloribus vel accusantium quis pariatur\\nmolestiae porro eius odio et labore et velit aut'}, {'userId': 1, 'id': 4, 'title': 'eum et est occaecati', 'body': 'ullam et saepe reiciendis voluptatem adipisci\\nsit amet autem assumenda provident rerum culpa\\nquis hic commodi nesciunt rem tenetur doloremque ipsam iure\\nquis sunt voluptatem rerum illo velit'}, {'userId': 1, 'id': 5, 'title': 'nesciunt quas odio', 'body': 'repudiandae veniam quaerat sunt sed\\nalias aut fugiat sit autem sed est\\nvoluptatem omnis possimus esse voluptatibus quis\\nest aut tenetur dolor neque'}]\n"
     ]
    }
   ],
   "source": [
    "\n",
    "import requests  # Import requests to fetch data from an API\n",
    "\n",
    "def fetch_data(api_url):\n",
    "    \"\"\"Fetch JSON data from an API and return it.\"\"\"\n",
    "    response = requests.get(api_url)  # Send GET request to API\n",
    "    if response.status_code == 200:\n",
    "        return response.json()  # Convert response to JSON\n",
    "    else:\n",
    "        print(\"Error fetching data:\", response.status_code)\n",
    "        return None\n",
    "\n",
    "# Example usage with a working API URL:\n",
    "api_url = \"https://jsonplaceholder.typicode.com/posts\"  # Public API for fetching posts\n",
    "data = fetch_data(api_url)\n",
    "\n",
    "# Extract and print first 5 items for reference\n",
    "if data:\n",
    "    print(\"Sample Data:\", data[:5])  # Print first 5 posts\n"
   ]
  },
  {
   "cell_type": "markdown",
   "id": "962d12e9",
   "metadata": {},
   "source": [
    "## Conclusion\n",
    "This notebook demonstrates database management, API fetching, and user authentication using SQLite and Python."
   ]
  }
 ],
 "metadata": {
  "kernelspec": {
   "display_name": "Python 3",
   "language": "python",
   "name": "python3"
  },
  "language_info": {
   "codemirror_mode": {
    "name": "ipython",
    "version": 3
   },
   "file_extension": ".py",
   "mimetype": "text/x-python",
   "name": "python",
   "nbconvert_exporter": "python",
   "pygments_lexer": "ipython3",
   "version": "3.8.5"
  }
 },
 "nbformat": 4,
 "nbformat_minor": 5
}
