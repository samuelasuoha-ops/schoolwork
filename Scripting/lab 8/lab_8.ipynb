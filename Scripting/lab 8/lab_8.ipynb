{
 "cells": [
  {
   "cell_type": "code",
   "execution_count": null,
   "metadata": {},
   "outputs": [],
   "source": [
    "#student number and name: C00305107 Samuel Asuoha"
   ]
  },
  {
   "cell_type": "code",
   "execution_count": 16,
   "metadata": {},
   "outputs": [],
   "source": [
    "import requests\n",
    "from requests.exceptions import HTTPError\n",
    "from bs4 import BeautifulSoup\n",
    "import matplotlib.pyplot as plt\n",
    "import json\n",
    "\n"
   ]
  },
  {
   "cell_type": "code",
   "execution_count": 17,
   "metadata": {},
   "outputs": [
    {
     "name": "stdout",
     "output_type": "stream",
     "text": [
      "Value error: Empty response from API\n"
     ]
    }
   ],
   "source": [
    "# Part 1: TheAudioDB API Integration\n",
    "# API URL and parameters\n",
    "api_url = \"https://www.theaudiodb.com/api/v1/json/2/search.php\"\n",
    "artist_name = \"Drake\"  \n",
    "params = {\"s\": artist_name}\n",
    "\n",
    "try:\n",
    "    # Fetch data from TheAudioDB API \n",
    "    response = requests.get(api_url, params=params) \n",
    "    response.raise_for_status()\n",
    "\n",
    "    if response.content:\n",
    "        try:\n",
    "            data = response.json()\n",
    "        except json.JSONDecodeError:\n",
    "            raise ValueError(\"Invalid JSON response.\")\n",
    "    else:\n",
    "        raise ValueError(\"Empty response from API\")\n",
    "    \n",
    "    # Extract artist information\n",
    "    artist_data = data.get(\"artists\")\n",
    "    if not artist_data:\n",
    "        raise ValueError(\"No data found for the specified artist.\")\n",
    "\n",
    "    artist_info = artist_data[0]\n",
    "    artist_name = artist_info.get(\"strArtist\", \"Unknown\")\n",
    "    artist_genre = artist_info.get(\"strGenre\", \"Unknown\")\n",
    "    artist_biography = artist_info.get(\"strBiographyEN\", \"No biography available.\")\n",
    "\n",
    "    print(f\"Artist: {artist_name}\")\n",
    "    print(f\"Genre: {artist_genre}\")\n",
    "    print(f\"Biography: {artist_biography[:200]}...\")  # Print the first 200 characters of the biography\n",
    "\n",
    "except requests.exceptions.HTTPError as http_err:\n",
    "    print(f\"HTTP error occurred: {http_err}\")\n",
    "except ValueError as val_err:\n",
    "    print(f\"Value error: {val_err}\")\n",
    "except Exception as err:\n",
    "    print(f\"Other error occurred: {err}\")"
   ]
  },
  {
   "cell_type": "code",
   "execution_count": 20,
   "metadata": {},
   "outputs": [
    {
     "name": "stdout",
     "output_type": "stream",
     "text": [
      "Skipping invalid data in row: [<td>Total\n",
      "</td>, <td>-\n",
      "</td>, <td>165.5\n",
      "</td>, <td>2617\n",
      "</td>, <td>20\n",
      "</td>, <td>13\n",
      "</td>, <td>9\n",
      "</td>, <td>10\n",
      "</td>, <td>1\n",
      "</td>, <td>2\n",
      "</td>, <td>2\n",
      "</td>, <td>-\n",
      "</td>]\n",
      "Error scraping the wiki page: list index out of range\n"
     ]
    },
    {
     "data": {
      "image/png": "[encoded data removed]",
      "text/plain": [
       "<Figure size 720x432 with 1 Axes>"
      ]
     },
     "metadata": {
      "needs_background": "light"
     },
     "output_type": "display_data"
    }
   ],
   "source": [
    "# Part 2: Scraping Dwarven Weapons Data\n",
    "wiki_url = \"https://elderscrolls.fandom.com/wiki/Dwarven_Weapons_(Skyrim)\"\n",
    "try:\n",
    "    # Fetch the webpage content\n",
    "    response = requests.get(wiki_url)\n",
    "    response.raise_for_status()\n",
    "    soup = BeautifulSoup(response.content, \"html.parser\")\n",
    "\n",
    "    # Extract the table data\n",
    "    table = soup.find(\"table\", class_=\"wikitable\")\n",
    "    if not table:\n",
    "        raise ValueError(\"Could not find the required table on the wiki page.\")\n",
    "\n",
    "    rows = table.find_all(\"tr\")\n",
    "\n",
    "    # Parse weapon data\n",
    "    weapon_names = []\n",
    "    weapon_damages = []\n",
    "    weapon_weights = []\n",
    "\n",
    "    for row in rows[1:]:  # Skips the header row\n",
    "        cols = row.find_all(\"td\")\n",
    "        if len(cols) > 2:\n",
    "            weapon_names.append(cols[0].text.strip())\n",
    "            try:\n",
    "                weapon_damages.append(float(cols[1].text.strip()))\n",
    "                weapon_weights.append(float(cols[2].text.strip()))\n",
    "            except ValueError:\n",
    "                print(f\"Skipping invalid data in row: {cols}\")\n",
    "\n",
    "    # Visualize weapon data\n",
    "    plt.figure(figsize=(10, 6))\n",
    "    plt.scatter(weapon_weights, weapon_damages, color=\"gold\", edgecolor=\"black\")\n",
    "    plt.xlabel(\"Weight\")\n",
    "    plt.ylabel(\"Damage\")\n",
    "    plt.title(\"Dwarven Weapons: Damage vs Weight\")\n",
    "    for i, name in enumerate(weapon_names):\n",
    "        plt.text(weapon_weights[i], weapon_damages[i], name, fontsize=8)\n",
    "    plt.grid(True)\n",
    "    plt.tight_layout()\n",
    "    plt.savefig(\"dwarven_weapons_plot.png\")\n",
    "    plt.show()\n",
    "\n",
    "except HTTPError as http_err:\n",
    "    print(f\"HTTP error occurred: {http_err}\")\n",
    "except Exception as err:\n",
    "    print(f\"Error scraping the wiki page: {err}\")"
   ]
  }
 ],
 "metadata": {
  "kernelspec": {
   "display_name": "Python 3",
   "language": "python",
   "name": "python3"
  },
  "language_info": {
   "codemirror_mode": {
    "name": "ipython",
    "version": 3
   },
   "file_extension": ".py",
   "mimetype": "text/x-python",
   "name": "python",
   "nbconvert_exporter": "python",
   "pygments_lexer": "ipython3",
   "version": "3.8.5"
  }
 },
 "nbformat": 4,
 "nbformat_minor": 2
}
